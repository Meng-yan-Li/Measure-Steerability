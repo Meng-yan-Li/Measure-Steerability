{
 "cells": [
  {
   "cell_type": "markdown",
   "metadata": {},
   "source": [
    "## MEASURE OF MULTIPARTITE QUANTUM STEERABILITY WITH 1-UNT"
   ]
  },
  {
   "cell_type": "markdown",
   "metadata": {},
   "source": [
    "Tripartite Steering Scenario with one unstrusted party\n",
    "<div align=\"center\">\n",
    "    <img src=\"MLHS-1UNT.png\" alt=\"MLHS-1UNT\" width=\"300\">\n",
    "</div>"
   ]
  },
  {
   "cell_type": "markdown",
   "metadata": {},
   "source": [
    "This project is designed to calculate multipartite quantum steerability with 1-UNT, i.e.,\n",
    "\n",
    "\\begin{aligned}\\mathcal{S}^{\\mathrm{M}_1}:= \\min&\\ \\mathcal{D}_{\\mathrm{A}}(\\{\\sigma_{a|x}^{\\bar{\\mathcal{B}}}\\}_{a,x},\\{ \\sigma^{\\mathrm{MLHS}_1}_{a|x}\\}_{a,x}),\\\\\\mathrm{s.t.}&\\  \\{\\sigma^{\\mathrm{MLHS_1}}_{a|x}\\}_{a,x} \\in \\mathrm{MLHS}_1,\\\\&\\  \\sum_a \\sigma^{\\mathrm{MLHS_1}}_{a|x} =\\rho^{\\bar{\\mathcal{B}}} \\ \\  \\forall x, \\end{aligned}\n",
    "\n",
    "where $\\mathcal{S}^{\\mathrm{M}_1}$ is termed the measure of multipartite quantum steerability in the presence of a single untrusted party.\n",
    "\n",
    "Below is a brief introduction to each function:\n",
    "\n",
    "- `targets.py`: Generates the target assemblage.\n",
    "- `config.py`: Configures parameters.\n",
    "- `uyils_nn.py`: Utilizes ANNs (Artificial Neural Networks) to model causal information.\n",
    "- `train.py`: Main function for execution.\n",
    "\n",
    "\n",
    "When changing the target assemblage, the parameters/code that may require adjustment are as follows:\n",
    "\n",
    "- `config.py`: self.ma, self.visibility, self.threshold_val, self.astarget.\n",
    "- `train.py`: line 28, line 60,61, line 73,74.\n",
    "\n",
    "You can also change the parameters in the model to train (fit) your own model."
   ]
  }
 ],
 "metadata": {
  "kernelspec": {
   "display_name": "Python 3",
   "language": "python",
   "name": "python3"
  },
  "language_info": {
   "codemirror_mode": {
    "name": "ipython",
    "version": 3
   },
   "file_extension": ".py",
   "mimetype": "text/x-python",
   "name": "python",
   "nbconvert_exporter": "python",
   "pygments_lexer": "ipython3",
   "version": "3.8.10"
  }
 },
 "nbformat": 4,
 "nbformat_minor": 2
}

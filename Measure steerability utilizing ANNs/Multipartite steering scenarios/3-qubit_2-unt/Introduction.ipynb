{
 "cells": [
  {
   "cell_type": "markdown",
   "metadata": {},
   "source": [
    "## MEASURE OF MULTIPARTITE QUANTUM STEERABILITY WITH 2-UNT"
   ]
  },
  {
   "cell_type": "markdown",
   "metadata": {},
   "source": [
    "Tripartite Steering Scenario with two unstrusted parties\n",
    "<div align=\"center\">\n",
    "    <img src=\"MLHS-2UNT.png\" alt=\"MLHS-2UNT\" width=\"300\">\n",
    "</div>"
   ]
  },
  {
   "cell_type": "markdown",
   "metadata": {},
   "source": [
    "This project is designed to calculate multipartite quantum steerability with 2-UNT, i.e.,\n",
    "\n",
    "\\begin{aligned}\\mathcal{S}^{\\mathrm{M}_2}:= \\min&\\ \\mathcal{D}_{\\mathrm{A}}(\\{\\sigma_{\\bar{a}|\\bar{x}}^{\\mathcal B}\\}_{\\bar{a},\\bar{x}},\\{ \\sigma^{\\mathrm{MLHS}_2}_{\\bar{a}|\\bar{x}}\\}_{\\bar{a},\\bar{x}}),\\\\\\mathrm{s.t.}&\\  \\{\\sigma^{\\text{MLHS}_2}_{\\bar{a}|\\bar{x}}\\}_{\\bar{a},\\bar{x}} \\in \\mathrm{MLHS}_2 ,\\\\&\\  \\sum_{\\bar{a}} \\sigma^{\\mathrm{MLHS}_2}_{\\bar{a}|\\bar{x}} =\\rho^{\\mathcal B} \\ \\  \\forall \\bar{x}. \\end{aligned}\n",
    "\n",
    "Here, $\\mathcal{S}^{\\mathrm{M}_2}$ serves as the measure of multipartite quantum steerability with two untrusted parties.\n",
    "\n",
    "Below is a brief introduction to each function:\n",
    "\n",
    "- `targets.py`: Generates the target assemblage.\n",
    "- `config.py`: Configures parameters.\n",
    "- `uyils_nn.py`: Utilizes ANNs (Artificial Neural Networks) to model causal information.\n",
    "- `train.py`: Main function for execution.\n",
    "\n",
    "\n",
    "When changing the target assemblage, the parameters/code that may require adjustment are as follows:\n",
    "\n",
    "- `config.py`: self.ma, self.visibility, self.threshold_val, self.astarget.\n",
    "- `train.py`: line 28, line 60,61, line 73,74.\n",
    "\n",
    "You can also change the parameters in the model to train (fit) your own model."
   ]
  }
 ],
 "metadata": {
  "kernelspec": {
   "display_name": "Python 3",
   "language": "python",
   "name": "python3"
  },
  "language_info": {
   "codemirror_mode": {
    "name": "ipython",
    "version": 3
   },
   "file_extension": ".py",
   "mimetype": "text/x-python",
   "name": "python",
   "nbconvert_exporter": "python",
   "pygments_lexer": "ipython3",
   "version": "3.8.10"
  }
 },
 "nbformat": 4,
 "nbformat_minor": 2
}

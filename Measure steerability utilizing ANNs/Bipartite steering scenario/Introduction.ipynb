{
 "cells": [
  {
   "cell_type": "markdown",
   "metadata": {},
   "source": [
    "## MEASURE OF BIPARTITE QUANTUM STEERABILITY\n"
   ]
  },
  {
   "cell_type": "markdown",
   "metadata": {},
   "source": [
    "Bipartite Steering Scenario\n",
    "<div align=\"center\">\n",
    "    <img src=\"LHS.png\" alt=\"LHS\" width=\"300\">\n",
    "</div>"
   ]
  },
  {
   "cell_type": "markdown",
   "metadata": {},
   "source": [
    "This project is designed to calculate bipartite quantum steerability, i.e.,\n",
    "\n",
    "\\begin{aligned}\\mathcal{S}^{\\mathrm{L}}:= \\min &\\    \\mathcal{D}_{\\mathrm{A}}(\\{\\sigma_{a|x}^{\\mathcal B}\\}_{a,x},\\{ \\sigma^{\\text{LHS}}_{a|x}\\}_{a,x}),\\\\\\mathrm{s.t.}&\\  \\{ \\sigma^{\\text{LHS}}_{a|x}\\}_{a,x} \\in \\mathrm{LHS},\\\\&\\  \\sum_a \\sigma^{\\text{LHS}}_{a|x} =\\rho^{\\mathcal B} \\ \\  \\forall x, \\end{aligned}\n",
    "\n",
    "where the first constraint signifies that the assemblage $\\{\\sigma^{\\text{LHS}}_{a|x}\\}_{a,x}$ admits the $\\mathrm{LHS}$ model, the second constraint similarly represents the consistency condition, and $\\mathcal{S}^{\\mathrm{L}}$ is termed the bipartite quantum steerability. \n",
    "\n",
    "Below is a brief introduction to each function:\n",
    "\n",
    "- `targets.py`: Generates the target assemblage.\n",
    "- `config.py`: Configures parameters.\n",
    "- `uyils_nn.py`: Utilizes ANNs (Artificial Neural Networks) to model causal information.\n",
    "- `train.py`: Main function for execution.\n",
    "\n",
    "\n",
    "When changing the target assemblage, the parameters/code that may require adjustment are as follows:\n",
    "\n",
    "- `config.py`: self.dim, self.ma, self.visibility, self.threshold_val, self.astarget.\n",
    "- `train.py`: line 28, line 60,61, line 73,74.\n",
    "\n",
    "You can also change the parameters in the model to train (fit) your own model."
   ]
  }
 ],
 "metadata": {
  "kernelspec": {
   "display_name": "Python 3",
   "language": "python",
   "name": "python3"
  },
  "language_info": {
   "codemirror_mode": {
    "name": "ipython",
    "version": 3
   },
   "file_extension": ".py",
   "mimetype": "text/x-python",
   "name": "python",
   "nbconvert_exporter": "python",
   "pygments_lexer": "ipython3",
   "version": "3.8.10"
  }
 },
 "nbformat": 4,
 "nbformat_minor": 2
}

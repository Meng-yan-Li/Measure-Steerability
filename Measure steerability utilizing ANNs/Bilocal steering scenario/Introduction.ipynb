{
 "cells": [
  {
   "cell_type": "markdown",
   "metadata": {},
   "source": [
    "## MEASURE OF NETWORK QUANTUM STEERABILITY"
   ]
  },
  {
   "cell_type": "markdown",
   "metadata": {},
   "source": [
    "Bilocal Steering Scenario\n",
    "<div align=\"center\">\n",
    "    <img src=\"NLHS.png\" alt=\"NLHS\" width=\"600\">\n",
    "</div>"
   ]
  },
  {
   "cell_type": "markdown",
   "metadata": {},
   "source": [
    "\n",
    "This project is designed to calculate network quantum steerability, i.e.,\n",
    "\n",
    "\\begin{aligned} \\mathcal{S}^{\\mathrm{N}} := \\min &\\  \\mathcal{D}_{\\mathrm{A}} (\\{\\sigma_{a}^{\\bar{\\mathcal{B}}}\\}_{a},\\{\\sigma_{a}^{\\mathrm{NLHS}}\\}_{a}),\\\\\n",
    "\t\t\t\\mathrm{s.t.}&\\  \\{\\sigma_{a}^{\\mathrm{NLHS}}\\}_{a} \\in \\mathrm{NLHS} ,\\\\&\\ \\  \\sum_a \\sigma^{\\mathrm{NLHS}}_{a} =\\rho^{\\mathcal{\\bar{\\mathcal{B}}}},\\end{aligned}\n",
    "\n",
    "where the first constraint signifies that the network assemblage $\\{\\sigma^{\\text{NLHS}}_{a}\\}_{a}$ admits the $\\mathrm{NLHS}$ model, and the second constraint represents the consistency condition, which ensures that the network assemblage $\\{\\sigma_a^\\mathrm{NLHS}\\}_a$ defines the same reduced state as $\\{\\sigma_a^{\\bar{\\mathcal{B}}}\\}_a$, i.e., $\\sum_a \\sigma_a^\\mathrm{NLHS} = \\sum_a \\sigma_a^{\\bar{\\mathcal{B}}} = \\rho^{\\bar{\\mathcal{B}}}$. $\\mathcal{S}^{\\mathrm{N}}$ is referred to as the measure of network quantum steerability.\n",
    "\n",
    "Below is a brief introduction to each function:\n",
    "\n",
    "- `targets.py`: Generates the target assemblage.\n",
    "- `config.py`: Configures parameters.\n",
    "- `uyils_nn.py`: Utilizes ANNs (Artificial Neural Networks) to model causal information.\n",
    "- `train.py`: Main function for execution.\n",
    "\n",
    "When changing the target assemblage, the parameters/code that may require adjustment are as follows:\n",
    "\n",
    "- `config.py`: self.inputsize, self.b_outputsize, self.visibility, self.threshold_val, self.Hidden_variables, self.astarget.\n",
    "- `train.py`: ...\n",
    "\n",
    "You can also change the parameters in the model to train (fit) your own model."
   ]
  }
 ],
 "metadata": {
  "kernelspec": {
   "display_name": "Python 3",
   "language": "python",
   "name": "python3"
  },
  "language_info": {
   "codemirror_mode": {
    "name": "ipython",
    "version": 3
   },
   "file_extension": ".py",
   "mimetype": "text/x-python",
   "name": "python",
   "nbconvert_exporter": "python",
   "pygments_lexer": "ipython3",
   "version": "3.8.10"
  }
 },
 "nbformat": 4,
 "nbformat_minor": 2
}
